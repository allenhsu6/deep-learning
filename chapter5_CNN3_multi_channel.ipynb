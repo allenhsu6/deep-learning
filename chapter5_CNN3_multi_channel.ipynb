{
 "cells": [
  {
   "cell_type": "markdown",
   "id": "4909b3d3",
   "metadata": {},
   "source": [
    "# 概念\n",
    "\n",
    "1. 多个输入通道的情况：\n",
    "\n",
    "每个通道都有一个卷积核，结果是所有的卷积结果的和（输出都是单通道）\n",
    "\n",
    "2. 多个输出通道的情况：\n",
    "\n",
    "对于之前的单通道输出，叠加对应的m个核生成m个输出通道\n"
   ]
  },
  {
   "cell_type": "markdown",
   "id": "6f14f60a",
   "metadata": {},
   "source": [
    "## 为什么要多通道\n",
    "\n",
    "1. 每个输出通道可以识别特定模式\n",
    "\n",
    "\n",
    "\n",
    "2. 所有输入通道核识别并组合输入中的模式\n",
    "\n",
    "\n",
    " 和multihead selfattention一个意思\n"
   ]
  },
  {
   "cell_type": "markdown",
   "id": "cd7e2c6e",
   "metadata": {},
   "source": [
    "## 1*1 卷积层\n",
    "\n",
    "不识别空间模式，只是做通道融合"
   ]
  },
  {
   "cell_type": "markdown",
   "id": "b7637056",
   "metadata": {},
   "source": [
    "# coding"
   ]
  },
  {
   "cell_type": "code",
   "execution_count": 2,
   "id": "6dcda98c",
   "metadata": {},
   "outputs": [
    {
     "name": "stderr",
     "output_type": "stream",
     "text": [
      "/opt/homebrew/Caskroom/miniforge/base/envs/Atari/lib/python3.9/site-packages/tqdm/auto.py:22: TqdmWarning: IProgress not found. Please update jupyter and ipywidgets. See https://ipywidgets.readthedocs.io/en/stable/user_install.html\n",
      "  from .autonotebook import tqdm as notebook_tqdm\n"
     ]
    }
   ],
   "source": [
    "import torch\n",
    "from torch import nn"
   ]
  },
  {
   "cell_type": "markdown",
   "id": "b6e4fbef",
   "metadata": {},
   "source": [
    "## 1.1 多个输入通道的处理情况\n",
    "\n",
    "卷积结果直接加和"
   ]
  },
  {
   "cell_type": "code",
   "execution_count": 3,
   "id": "6951000c",
   "metadata": {},
   "outputs": [],
   "source": [
    "def corr2d(X, K):\n",
    "    h, w = K.shape\n",
    "    y = torch.zeros((X.shape[0] - h + 1), X.shape[1]-w+1)\n",
    "    for i in range(y.shape[0]):\n",
    "        for j in range(y.shape[1]):\n",
    "            y[i, j] = (X[i:i+h, j:j+w] * K).sum()\n",
    "    return y\n",
    "\n",
    "def corr2d_multi_in(X, K):\n",
    "    return sum(corr2d(x, k) for x, k in zip(X, K)) "
   ]
  },
  {
   "cell_type": "code",
   "execution_count": 34,
   "id": "688d9ac6",
   "metadata": {},
   "outputs": [],
   "source": [
    "X = torch.tensor(range(9)).float().repeat(2,1)\n",
    "X = X.reshape((2,3,3))\n",
    "X[1] += 1"
   ]
  },
  {
   "cell_type": "code",
   "execution_count": 44,
   "id": "0a087720",
   "metadata": {},
   "outputs": [
    {
     "data": {
      "text/plain": [
       "tensor([[[0., 1.],\n",
       "         [2., 3.]],\n",
       "\n",
       "        [[1., 2.],\n",
       "         [3., 4.]]])"
      ]
     },
     "execution_count": 44,
     "metadata": {},
     "output_type": "execute_result"
    }
   ],
   "source": [
    "K = torch.tensor(range(4)).float().repeat(2,1).reshape((2,2,2))\n",
    "K[1] += 1\n",
    "K"
   ]
  },
  {
   "cell_type": "code",
   "execution_count": 38,
   "id": "8c31369c",
   "metadata": {},
   "outputs": [
    {
     "data": {
      "text/plain": [
       "tensor([[ 56.,  72.],\n",
       "        [104., 120.]])"
      ]
     },
     "execution_count": 38,
     "metadata": {},
     "output_type": "execute_result"
    }
   ],
   "source": [
    "Y = corr2d_multi_in(X, K)\n",
    "Y"
   ]
  },
  {
   "cell_type": "code",
   "execution_count": 39,
   "id": "502cd117",
   "metadata": {},
   "outputs": [
    {
     "data": {
      "text/plain": [
       "(torch.Size([2, 3, 3]), torch.Size([2, 2, 2]), torch.Size([2, 2]))"
      ]
     },
     "execution_count": 39,
     "metadata": {},
     "output_type": "execute_result"
    }
   ],
   "source": [
    "X.shape, K.shape, Y.shape"
   ]
  },
  {
   "cell_type": "markdown",
   "id": "bf7a3ee5",
   "metadata": {},
   "source": [
    "## 1.2 多个输出通道"
   ]
  },
  {
   "cell_type": "code",
   "execution_count": 45,
   "id": "7e5898ad",
   "metadata": {},
   "outputs": [
    {
     "data": {
      "text/plain": [
       "torch.Size([3, 2, 2, 2])"
      ]
     },
     "execution_count": 45,
     "metadata": {},
     "output_type": "execute_result"
    }
   ],
   "source": [
    "def corr2d_multi_in_out(X, K):\n",
    "    return torch.stack([corr2d_multi_in(X, k) for k in K], 0)\n",
    "\n",
    "K = torch.stack([K, K+1, K+2], 0)\n",
    "K.shape"
   ]
  },
  {
   "cell_type": "code",
   "execution_count": 46,
   "id": "6f918584",
   "metadata": {},
   "outputs": [
    {
     "data": {
      "text/plain": [
       "tensor([[[ 56.,  72.],\n",
       "         [104., 120.]],\n",
       "\n",
       "        [[ 76., 100.],\n",
       "         [148., 172.]],\n",
       "\n",
       "        [[ 96., 128.],\n",
       "         [192., 224.]]])"
      ]
     },
     "execution_count": 46,
     "metadata": {},
     "output_type": "execute_result"
    }
   ],
   "source": [
    "multi_Y = corr2d_multi_in_out(X, K)\n",
    "multi_Y"
   ]
  },
  {
   "cell_type": "markdown",
   "id": "67782a81",
   "metadata": {},
   "source": [
    "## 1.3 1 * 1卷积"
   ]
  },
  {
   "cell_type": "code",
   "execution_count": 49,
   "id": "c94db34a",
   "metadata": {},
   "outputs": [],
   "source": [
    "def corr2d_multi_in_out_1x1(X, K):\n",
    "    c_i, h, w = X.shape\n",
    "    c_o = K.shape[0]\n",
    "    X = X.reshape((c_i, h * w))\n",
    "    K = K.reshape((c_o, c_i))\n",
    "    \n",
    "    Y = torch.matmul(K, X)\n",
    "    \n",
    "    return Y.reshape(c_o, h, w)\n",
    "\n",
    "X = torch.normal(0, 1, (3,3,3))\n",
    "K = torch.normal(0, 1, (2, 3, 1,1))\n",
    "\n",
    "Y1 = corr2d_multi_in_out_1x1(X, K)\n",
    "Y2 = corr2d_multi_in_out(X, K)\n",
    "\n",
    "assert float(torch.abs(Y1-Y2).sum()) < 1e-6"
   ]
  },
  {
   "cell_type": "markdown",
   "id": "bcbeeab2",
   "metadata": {},
   "source": [
    "如上，1 * 1的卷积，就等价于一个全连接层"
   ]
  }
 ],
 "metadata": {
  "kernelspec": {
   "display_name": "Python 3 (ipykernel)",
   "language": "python",
   "name": "python3"
  },
  "language_info": {
   "codemirror_mode": {
    "name": "ipython",
    "version": 3
   },
   "file_extension": ".py",
   "mimetype": "text/x-python",
   "name": "python",
   "nbconvert_exporter": "python",
   "pygments_lexer": "ipython3",
   "version": "3.9.12"
  }
 },
 "nbformat": 4,
 "nbformat_minor": 5
}
