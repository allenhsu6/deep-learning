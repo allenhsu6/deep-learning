{
 "cells": [
  {
   "cell_type": "markdown",
   "id": "2ac45b91",
   "metadata": {},
   "source": [
    "# 背景\n",
    "\n",
    "在深度学习之前，最火热的方法是SVM，各种核。\n",
    "\n",
    "核函数判断相关性：在高维空间，两个点的相关性。\n",
    "\n",
    "核方法是通过变换空间，将空间变换成想要的样子。\n",
    "\n",
    "然后转换为凸优化问题进行求解。\n",
    "\n",
    "核方法有一套漂亮的定理。\n",
    "\n",
    "## 特征工程\n",
    "\n",
    "尤其是计算机视觉领域，比如提取各种各样的特征点描述子。特征提取更重要，而模型相对没那么重要。\n",
    "\n",
    "## 深度学习的起源\n",
    "\n",
    "数据量一直在增加。算力核RAM都更是成倍增加。\n",
    "\n",
    "imagenet是一个重要转折点。"
   ]
  },
  {
   "cell_type": "markdown",
   "id": "4183fde6",
   "metadata": {},
   "source": [
    "# AlexNet\n",
    "\n",
    "更深更大的LeNet\n",
    "\n",
    "主要改进：\n",
    "\n",
    "- dropout\n",
    "- ReLu\n",
    "- MaxPooling\n",
    "- 数据增广（非常重要）\n",
    "\n",
    "改变：\n",
    "\n",
    "我们不再思考人工特征提取，而是直接端到端\n",
    "\n"
   ]
  },
  {
   "cell_type": "markdown",
   "id": "f644e013",
   "metadata": {},
   "source": [
    "![alexnet](./img/alexnet.png)"
   ]
  },
  {
   "cell_type": "markdown",
   "id": "421ab92e",
   "metadata": {},
   "source": [
    "# coding"
   ]
  },
  {
   "cell_type": "code",
   "execution_count": 2,
   "id": "56f94c3e",
   "metadata": {},
   "outputs": [
    {
     "name": "stderr",
     "output_type": "stream",
     "text": [
      "/opt/homebrew/Caskroom/miniforge/base/envs/Atari/lib/python3.9/site-packages/tqdm/auto.py:22: TqdmWarning: IProgress not found. Please update jupyter and ipywidgets. See https://ipywidgets.readthedocs.io/en/stable/user_install.html\n",
      "  from .autonotebook import tqdm as notebook_tqdm\n"
     ]
    }
   ],
   "source": [
    "import torch\n",
    "from torch import nn"
   ]
  },
  {
   "cell_type": "code",
   "execution_count": 11,
   "id": "1981b9d3",
   "metadata": {},
   "outputs": [],
   "source": [
    "# 注意我们这里使用fashion数据集，所以输入channel = 1\n",
    "\n",
    "net = nn.Sequential(\n",
    "    nn.Conv2d(1, 96, kernel_size=11, stride=4, padding=1),\n",
    "    nn.ReLU(),\n",
    "    nn.MaxPool2d(kernel_size=3, stride=2),\n",
    "    nn.Conv2d(96, 256, kernel_size=5, padding=2),\n",
    "    nn.ReLU(),\n",
    "    nn.MaxPool2d(kernel_size=3, stride=2),\n",
    "    nn.Conv2d(256, 384, kernel_size=3, padding=1),\n",
    "    nn.ReLU(),\n",
    "    nn.Conv2d(384, 384, kernel_size=3, padding=1),\n",
    "    nn.ReLU(),\n",
    "    nn.Conv2d(384, 256, kernel_size=3, padding=1),\n",
    "    nn.ReLU(),\n",
    "    nn.MaxPool2d(kernel_size=3, stride=2),\n",
    "    nn.Flatten(),\n",
    "    nn.Linear(6400, 4096), nn.ReLU(), nn.Dropout(p=0.5),\n",
    "    nn.Linear(4096, 4096), nn.ReLU(), nn.Dropout(p=0.5),\n",
    "    nn.Linear(4096, 10)\n",
    "    )"
   ]
  },
  {
   "cell_type": "code",
   "execution_count": 12,
   "id": "53c9ce77",
   "metadata": {},
   "outputs": [
    {
     "name": "stdout",
     "output_type": "stream",
     "text": [
      "Conv2d output shape: \t\t torch.Size([1, 96, 54, 54])\n",
      "ReLU output shape: \t\t torch.Size([1, 96, 54, 54])\n",
      "MaxPool2d output shape: \t\t torch.Size([1, 96, 26, 26])\n",
      "Conv2d output shape: \t\t torch.Size([1, 256, 26, 26])\n",
      "ReLU output shape: \t\t torch.Size([1, 256, 26, 26])\n",
      "MaxPool2d output shape: \t\t torch.Size([1, 256, 12, 12])\n",
      "Conv2d output shape: \t\t torch.Size([1, 384, 12, 12])\n",
      "ReLU output shape: \t\t torch.Size([1, 384, 12, 12])\n",
      "Conv2d output shape: \t\t torch.Size([1, 384, 12, 12])\n",
      "ReLU output shape: \t\t torch.Size([1, 384, 12, 12])\n",
      "Conv2d output shape: \t\t torch.Size([1, 256, 12, 12])\n",
      "ReLU output shape: \t\t torch.Size([1, 256, 12, 12])\n",
      "MaxPool2d output shape: \t\t torch.Size([1, 256, 5, 5])\n",
      "Flatten output shape: \t\t torch.Size([1, 6400])\n",
      "Linear output shape: \t\t torch.Size([1, 4096])\n",
      "ReLU output shape: \t\t torch.Size([1, 4096])\n",
      "Dropout output shape: \t\t torch.Size([1, 4096])\n",
      "Linear output shape: \t\t torch.Size([1, 4096])\n",
      "ReLU output shape: \t\t torch.Size([1, 4096])\n",
      "Dropout output shape: \t\t torch.Size([1, 4096])\n",
      "Linear output shape: \t\t torch.Size([1, 10])\n"
     ]
    }
   ],
   "source": [
    "# 使用这个能够轻易看出网络的哪层算错了\n",
    "X = torch.rand(size=(1,1,224,224), dtype=torch.float32)\n",
    "\n",
    "for layer in net:\n",
    "    X = layer(X)\n",
    "    print(layer.__class__.__name__, 'output shape: \\t\\t', X.shape)"
   ]
  },
  {
   "cell_type": "markdown",
   "id": "cf633422",
   "metadata": {},
   "source": [
    "基本就是通过不断增加channel，将一个image拉长，最后与全联接层连在一起。"
   ]
  },
  {
   "cell_type": "code",
   "execution_count": 15,
   "id": "efe94ddc",
   "metadata": {},
   "outputs": [],
   "source": [
    "import torchvision\n",
    "from torchvision import transforms\n",
    "from torch.utils import data\n",
    "\n",
    "batch_size = 256\n",
    "def load_data_fashion_mnist(batch_size, resize=None):\n",
    "    trans = [transforms.ToTensor()]\n",
    "    # 如果有resize，先做resize，然后再转换到tensor\n",
    "    if resize:\n",
    "        trans.insert(0, transforms.Resize(resize))\n",
    "    trans = transforms.Compose(trans)\n",
    "    mnist_train = torchvision.datasets.FashionMNIST(root='./data/', train=True, transform=trans, download=False)\n",
    "    mnist_test = torchvision.datasets.FashionMNIST(\"./data\", train=False, transform=trans, download=False)\n",
    "    return (data.DataLoader(mnist_train, batch_size, shuffle=True, num_workers=8), \n",
    "           data.DataLoader(mnist_test, batch_size, shuffle=True, num_workers=8))\n",
    "  \n",
    "train_iter, test_iter = load_data_fashion_mnist(batch_size, resize=224)"
   ]
  },
  {
   "cell_type": "code",
   "execution_count": 16,
   "id": "81342629",
   "metadata": {},
   "outputs": [],
   "source": [
    "def train(net, train_iter, test_iter, num_epochs, lr):\n",
    "    def init_weights(m):\n",
    "        if type(m)==nn.Linear or type(m) == nn.Conv2d:\n",
    "            nn.init.xavier_uniform_(m.weight)\n",
    "            \n",
    "    net.apply(init_weights)\n",
    "    print('begin training')\n",
    "    \n",
    "    optimizer = torch.optim.SGD(net.parameters(), lr=lr)\n",
    "    loss = nn.CrossEntropyLoss()\n",
    "    \n",
    "    for epoch in range(num_epochs):\n",
    "        net.train()\n",
    "        for i, (X, y) in enumerate(train_iter):\n",
    "            optimizer.zero_grad()\n",
    "            y_hat = net(X)\n",
    "            L = loss(y_hat, y)\n",
    "            L.backward()\n",
    "            optimizer.step()\n",
    "            \n",
    "        print(f'loss: {L.sum()}')"
   ]
  },
  {
   "cell_type": "code",
   "execution_count": 17,
   "id": "e8b0b37c",
   "metadata": {
    "collapsed": true
   },
   "outputs": [
    {
     "name": "stdout",
     "output_type": "stream",
     "text": [
      "begin training\n"
     ]
    },
    {
     "ename": "KeyboardInterrupt",
     "evalue": "",
     "output_type": "error",
     "traceback": [
      "\u001b[0;31m---------------------------------------------------------------------------\u001b[0m",
      "\u001b[0;31mKeyboardInterrupt\u001b[0m                         Traceback (most recent call last)",
      "Input \u001b[0;32mIn [17]\u001b[0m, in \u001b[0;36m<cell line: 3>\u001b[0;34m()\u001b[0m\n\u001b[1;32m      1\u001b[0m lr \u001b[38;5;241m=\u001b[39m \u001b[38;5;241m0.9\u001b[39m\n\u001b[1;32m      2\u001b[0m num_epochs \u001b[38;5;241m=\u001b[39m \u001b[38;5;241m10\u001b[39m\n\u001b[0;32m----> 3\u001b[0m \u001b[43mtrain\u001b[49m\u001b[43m(\u001b[49m\u001b[43mnet\u001b[49m\u001b[43m,\u001b[49m\u001b[43m \u001b[49m\u001b[43mtrain_iter\u001b[49m\u001b[43m,\u001b[49m\u001b[43m \u001b[49m\u001b[43mtest_iter\u001b[49m\u001b[43m,\u001b[49m\u001b[43m \u001b[49m\u001b[43mnum_epochs\u001b[49m\u001b[43m,\u001b[49m\u001b[43m \u001b[49m\u001b[43mlr\u001b[49m\u001b[43m)\u001b[49m\n",
      "Input \u001b[0;32mIn [16]\u001b[0m, in \u001b[0;36mtrain\u001b[0;34m(net, train_iter, test_iter, num_epochs, lr)\u001b[0m\n\u001b[1;32m     16\u001b[0m     y_hat \u001b[38;5;241m=\u001b[39m net(X)\n\u001b[1;32m     17\u001b[0m     L \u001b[38;5;241m=\u001b[39m loss(y_hat, y)\n\u001b[0;32m---> 18\u001b[0m     \u001b[43mL\u001b[49m\u001b[38;5;241;43m.\u001b[39;49m\u001b[43mbackward\u001b[49m\u001b[43m(\u001b[49m\u001b[43m)\u001b[49m\n\u001b[1;32m     19\u001b[0m     optimizer\u001b[38;5;241m.\u001b[39mstep()\n\u001b[1;32m     21\u001b[0m \u001b[38;5;28mprint\u001b[39m(\u001b[38;5;124mf\u001b[39m\u001b[38;5;124m'\u001b[39m\u001b[38;5;124mloss: \u001b[39m\u001b[38;5;132;01m{\u001b[39;00mL\u001b[38;5;241m.\u001b[39msum()\u001b[38;5;132;01m}\u001b[39;00m\u001b[38;5;124m'\u001b[39m)\n",
      "File \u001b[0;32m/opt/homebrew/Caskroom/miniforge/base/envs/Atari/lib/python3.9/site-packages/torch/_tensor.py:363\u001b[0m, in \u001b[0;36mTensor.backward\u001b[0;34m(self, gradient, retain_graph, create_graph, inputs)\u001b[0m\n\u001b[1;32m    354\u001b[0m \u001b[38;5;28;01mif\u001b[39;00m has_torch_function_unary(\u001b[38;5;28mself\u001b[39m):\n\u001b[1;32m    355\u001b[0m     \u001b[38;5;28;01mreturn\u001b[39;00m handle_torch_function(\n\u001b[1;32m    356\u001b[0m         Tensor\u001b[38;5;241m.\u001b[39mbackward,\n\u001b[1;32m    357\u001b[0m         (\u001b[38;5;28mself\u001b[39m,),\n\u001b[0;32m   (...)\u001b[0m\n\u001b[1;32m    361\u001b[0m         create_graph\u001b[38;5;241m=\u001b[39mcreate_graph,\n\u001b[1;32m    362\u001b[0m         inputs\u001b[38;5;241m=\u001b[39minputs)\n\u001b[0;32m--> 363\u001b[0m \u001b[43mtorch\u001b[49m\u001b[38;5;241;43m.\u001b[39;49m\u001b[43mautograd\u001b[49m\u001b[38;5;241;43m.\u001b[39;49m\u001b[43mbackward\u001b[49m\u001b[43m(\u001b[49m\u001b[38;5;28;43mself\u001b[39;49m\u001b[43m,\u001b[49m\u001b[43m \u001b[49m\u001b[43mgradient\u001b[49m\u001b[43m,\u001b[49m\u001b[43m \u001b[49m\u001b[43mretain_graph\u001b[49m\u001b[43m,\u001b[49m\u001b[43m \u001b[49m\u001b[43mcreate_graph\u001b[49m\u001b[43m,\u001b[49m\u001b[43m \u001b[49m\u001b[43minputs\u001b[49m\u001b[38;5;241;43m=\u001b[39;49m\u001b[43minputs\u001b[49m\u001b[43m)\u001b[49m\n",
      "File \u001b[0;32m/opt/homebrew/Caskroom/miniforge/base/envs/Atari/lib/python3.9/site-packages/torch/autograd/__init__.py:173\u001b[0m, in \u001b[0;36mbackward\u001b[0;34m(tensors, grad_tensors, retain_graph, create_graph, grad_variables, inputs)\u001b[0m\n\u001b[1;32m    168\u001b[0m     retain_graph \u001b[38;5;241m=\u001b[39m create_graph\n\u001b[1;32m    170\u001b[0m \u001b[38;5;66;03m# The reason we repeat same the comment below is that\u001b[39;00m\n\u001b[1;32m    171\u001b[0m \u001b[38;5;66;03m# some Python versions print out the first line of a multi-line function\u001b[39;00m\n\u001b[1;32m    172\u001b[0m \u001b[38;5;66;03m# calls in the traceback and some print out the last line\u001b[39;00m\n\u001b[0;32m--> 173\u001b[0m \u001b[43mVariable\u001b[49m\u001b[38;5;241;43m.\u001b[39;49m\u001b[43m_execution_engine\u001b[49m\u001b[38;5;241;43m.\u001b[39;49m\u001b[43mrun_backward\u001b[49m\u001b[43m(\u001b[49m\u001b[43m  \u001b[49m\u001b[38;5;66;43;03m# Calls into the C++ engine to run the backward pass\u001b[39;49;00m\n\u001b[1;32m    174\u001b[0m \u001b[43m    \u001b[49m\u001b[43mtensors\u001b[49m\u001b[43m,\u001b[49m\u001b[43m \u001b[49m\u001b[43mgrad_tensors_\u001b[49m\u001b[43m,\u001b[49m\u001b[43m \u001b[49m\u001b[43mretain_graph\u001b[49m\u001b[43m,\u001b[49m\u001b[43m \u001b[49m\u001b[43mcreate_graph\u001b[49m\u001b[43m,\u001b[49m\u001b[43m \u001b[49m\u001b[43minputs\u001b[49m\u001b[43m,\u001b[49m\n\u001b[1;32m    175\u001b[0m \u001b[43m    \u001b[49m\u001b[43mallow_unreachable\u001b[49m\u001b[38;5;241;43m=\u001b[39;49m\u001b[38;5;28;43;01mTrue\u001b[39;49;00m\u001b[43m,\u001b[49m\u001b[43m \u001b[49m\u001b[43maccumulate_grad\u001b[49m\u001b[38;5;241;43m=\u001b[39;49m\u001b[38;5;28;43;01mTrue\u001b[39;49;00m\u001b[43m)\u001b[49m\n",
      "\u001b[0;31mKeyboardInterrupt\u001b[0m: "
     ]
    }
   ],
   "source": [
    "# 太慢了啊， 我没有gpu，这里就放弃了\n",
    "# 沐神电脑上最终输出的 0.88的精度\n",
    "\n",
    "lr = 0.05\n",
    "num_epochs = 10\n",
    "train(net, train_iter, test_iter, num_epochs, lr)"
   ]
  }
 ],
 "metadata": {
  "kernelspec": {
   "display_name": "Python 3 (ipykernel)",
   "language": "python",
   "name": "python3"
  },
  "language_info": {
   "codemirror_mode": {
    "name": "ipython",
    "version": 3
   },
   "file_extension": ".py",
   "mimetype": "text/x-python",
   "name": "python",
   "nbconvert_exporter": "python",
   "pygments_lexer": "ipython3",
   "version": "3.9.12"
  }
 },
 "nbformat": 4,
 "nbformat_minor": 5
}
