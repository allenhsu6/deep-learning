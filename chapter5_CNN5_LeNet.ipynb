{
 "cells": [
  {
   "cell_type": "markdown",
   "id": "0ecb43b2",
   "metadata": {},
   "source": [
    "# LeNet\n",
    "\n",
    "\n",
    "![img](./img/LeNet.jpg)"
   ]
  },
  {
   "cell_type": "code",
   "execution_count": 1,
   "id": "ef8c1ad6",
   "metadata": {},
   "outputs": [
    {
     "name": "stderr",
     "output_type": "stream",
     "text": [
      "/opt/homebrew/Caskroom/miniforge/base/envs/Atari/lib/python3.9/site-packages/tqdm/auto.py:22: TqdmWarning: IProgress not found. Please update jupyter and ipywidgets. See https://ipywidgets.readthedocs.io/en/stable/user_install.html\n",
      "  from .autonotebook import tqdm as notebook_tqdm\n"
     ]
    }
   ],
   "source": [
    "import torch\n",
    "from torch import nn"
   ]
  },
  {
   "cell_type": "code",
   "execution_count": 2,
   "id": "96b0d238",
   "metadata": {},
   "outputs": [],
   "source": [
    "class Reshape(nn.Module):\n",
    "    def forward(self, x):\n",
    "        return x.view(-1, 1, 28, 28)\n",
    "    \n",
    "net = torch.nn.Sequential(\n",
    "        Reshape(), \n",
    "        nn.Conv2d(1, 6, kernel_size=5, padding=2), # 6 * 28 * 28\n",
    "        nn.Sigmoid(), \n",
    "        nn.AvgPool2d(2, stride=2),# 6 * 14 * 14\n",
    "        nn.Conv2d(6, 16, kernel_size=5),# 16 * 10 * 10\n",
    "        nn.Sigmoid(),\n",
    "        nn.AvgPool2d(2, stride=2),# 16 * 5 * 5\n",
    "        nn.Flatten(),\n",
    "        nn.Linear(16*5*5, 120),nn.Sigmoid(),\n",
    "        nn.Linear(120, 84),nn.Sigmoid(),\n",
    "        nn.Linear(84, 10)\n",
    "        )"
   ]
  },
  {
   "cell_type": "code",
   "execution_count": 4,
   "id": "30e1d767",
   "metadata": {},
   "outputs": [
    {
     "name": "stdout",
     "output_type": "stream",
     "text": [
      "Reshape output shape: \t\t torch.Size([1, 1, 28, 28])\n",
      "Conv2d output shape: \t\t torch.Size([1, 6, 28, 28])\n",
      "Sigmoid output shape: \t\t torch.Size([1, 6, 28, 28])\n",
      "AvgPool2d output shape: \t\t torch.Size([1, 6, 14, 14])\n",
      "Conv2d output shape: \t\t torch.Size([1, 16, 10, 10])\n",
      "Sigmoid output shape: \t\t torch.Size([1, 16, 10, 10])\n",
      "AvgPool2d output shape: \t\t torch.Size([1, 16, 5, 5])\n",
      "Flatten output shape: \t\t torch.Size([1, 400])\n",
      "Linear output shape: \t\t torch.Size([1, 120])\n",
      "Sigmoid output shape: \t\t torch.Size([1, 120])\n",
      "Linear output shape: \t\t torch.Size([1, 84])\n",
      "Sigmoid output shape: \t\t torch.Size([1, 84])\n",
      "Linear output shape: \t\t torch.Size([1, 10])\n"
     ]
    }
   ],
   "source": [
    "X = torch.rand(size=(1,1,28,28), dtype=torch.float32)\n",
    "\n",
    "for layer in net:\n",
    "    X = layer(X)\n",
    "    print(layer.__class__.__name__, 'output shape: \\t\\t', X.shape)"
   ]
  },
  {
   "cell_type": "markdown",
   "id": "a963e091",
   "metadata": {},
   "source": [
    "## train"
   ]
  },
  {
   "cell_type": "code",
   "execution_count": 10,
   "id": "5de7a918",
   "metadata": {},
   "outputs": [],
   "source": [
    "import torchvision\n",
    "from torchvision import transforms\n",
    "from torch.utils import data\n",
    "\n",
    "batch_size = 256\n",
    "def load_data_fashion_mnist(batch_size, resize=None):\n",
    "    trans = [transforms.ToTensor()]\n",
    "    # 如果有resize，先做resize，然后再转换到tensor\n",
    "    if resize:\n",
    "        trans.insert(0, transforms.Resize(resize))\n",
    "    trans = transforms.Compose(trans)\n",
    "    mnist_train = torchvision.datasets.FashionMNIST(root='./data/', train=True, transform=trans, download=False)\n",
    "    mnist_test = torchvision.datasets.FashionMNIST(\"./data\", train=False, transform=trans, download=False)\n",
    "    return (data.DataLoader(mnist_train, batch_size, shuffle=True, num_workers=8), \n",
    "           data.DataLoader(mnist_test, batch_size, shuffle=True, num_workers=8))\n",
    "  \n",
    "train_iter, test_iter = load_data_fashion_mnist(batch_size)"
   ]
  },
  {
   "cell_type": "code",
   "execution_count": 12,
   "id": "f4db60fd",
   "metadata": {},
   "outputs": [],
   "source": [
    "import tqdm as tqdm"
   ]
  },
  {
   "cell_type": "code",
   "execution_count": 23,
   "id": "31f7ac89",
   "metadata": {},
   "outputs": [],
   "source": [
    "def train(net, train_iter, test_iter, num_epochs, lr):\n",
    "    def init_weights(m):\n",
    "        if type(m)==nn.Linear or type(m) == nn.Conv2d:\n",
    "            nn.init.xavier_uniform_(m.weight)\n",
    "            \n",
    "    net.apply(init_weights)\n",
    "    print('begin training')\n",
    "    \n",
    "    optimizer = torch.optim.SGD(net.parameters(), lr=lr)\n",
    "    loss = nn.CrossEntropyLoss()\n",
    "    \n",
    "    for epoch in range(num_epochs):\n",
    "        net.train()\n",
    "        for i, (X, y) in enumerate(train_iter):\n",
    "            optimizer.zero_grad()\n",
    "            y_hat = net(X)\n",
    "            L = loss(y_hat, y)\n",
    "            L.backward()\n",
    "            optimizer.step()\n",
    "            \n",
    "        print(f'loss: {L.sum()}')\n",
    "\n",
    "lr = 0.9\n",
    "num_epochs = 10\n",
    "train(net, train_iter, test_iter, num_epochs, lr)"
   ]
  },
  {
   "cell_type": "markdown",
   "id": "184dbd18",
   "metadata": {},
   "source": [
    "## test accurancy"
   ]
  },
  {
   "cell_type": "code",
   "execution_count": 25,
   "id": "f4eb3160",
   "metadata": {},
   "outputs": [],
   "source": [
    "def accurancy(y, y_hat):\n",
    "    if len(y_hat) > 1 and len(y_hat[0]) > 1:\n",
    "        y_hat = y_hat.argmax(axis=1)\n",
    "    cmp = y_hat == y\n",
    "    return cmp.sum().item()\n",
    "\n",
    "# 测试集上的效果\n",
    "net.eval()\n",
    "\n",
    "sum_accu = 0\n",
    "for X, y in test_iter:\n",
    "    y_hat = net(X)\n",
    "    sum_accu += accurancy(y, y_hat)\n",
    "    \n",
    "sum_accu / 10000\n",
    "\n",
    "# 在训练集上的效果\n",
    "sum_accu = 0\n",
    "for X, y in train_iter:\n",
    "    y_hat = net(X)\n",
    "    sum_accu += accurancy(y, y_hat)\n",
    "    \n",
    "sum_accu / 60000"
   ]
  }
 ],
 "metadata": {
  "kernelspec": {
   "display_name": "Python 3 (ipykernel)",
   "language": "python",
   "name": "python3"
  },
  "language_info": {
   "codemirror_mode": {
    "name": "ipython",
    "version": 3
   },
   "file_extension": ".py",
   "mimetype": "text/x-python",
   "name": "python",
   "nbconvert_exporter": "python",
   "pygments_lexer": "ipython3",
   "version": "3.9.12"
  }
 },
 "nbformat": 4,
 "nbformat_minor": 5
}
