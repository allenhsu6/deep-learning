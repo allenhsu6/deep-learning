{
 "cells": [
  {
   "cell_type": "markdown",
   "id": "a63b8b1e",
   "metadata": {},
   "source": [
    "# VGG：使用块的网络\n",
    "\n",
    "如何更好的更深更大：\n",
    "\n",
    "1. 更多的全连接层（太贵）\n",
    "2. 更多的卷积层\n",
    "3. 将卷积层组合成块（提出VGG块）（就像堆积木）"
   ]
  },
  {
   "cell_type": "markdown",
   "id": "62622c9f",
   "metadata": {},
   "source": [
    "VGG发现：\n",
    "\n",
    "深但窄的网络效果更好，所以都是放着（3*3）的卷积核"
   ]
  },
  {
   "cell_type": "markdown",
   "id": "ccc93cd1",
   "metadata": {},
   "source": [
    "# coding"
   ]
  },
  {
   "cell_type": "markdown",
   "id": "fd1f163c",
   "metadata": {},
   "source": [
    "## VGG块"
   ]
  },
  {
   "cell_type": "code",
   "execution_count": 2,
   "id": "3339bbd8",
   "metadata": {},
   "outputs": [
    {
     "name": "stderr",
     "output_type": "stream",
     "text": [
      "/opt/homebrew/Caskroom/miniforge/base/envs/Atari/lib/python3.9/site-packages/tqdm/auto.py:22: TqdmWarning: IProgress not found. Please update jupyter and ipywidgets. See https://ipywidgets.readthedocs.io/en/stable/user_install.html\n",
      "  from .autonotebook import tqdm as notebook_tqdm\n"
     ]
    }
   ],
   "source": [
    "import torch\n",
    "from torch import nn"
   ]
  },
  {
   "cell_type": "code",
   "execution_count": 3,
   "id": "9f3f6f4f",
   "metadata": {},
   "outputs": [],
   "source": [
    "# out_channels: 卷积层输出的channel数\n",
    "def vgg_block(num_convs, in_channels, out_channels):\n",
    "    layers = []\n",
    "    \n",
    "    for _ in range(num_convs):\n",
    "        layers.append(nn.Conv2d(in_channels, out_channels, kernel_size=3, padding=1))\n",
    "        layers.append(nn.ReLU())\n",
    "        in_channels = out_channels\n",
    "    layers.append(nn.MaxPool2d(kernel_size=2, stride=2))\n",
    "    \n",
    "    return nn.Sequential(*layers)"
   ]
  },
  {
   "cell_type": "code",
   "execution_count": 8,
   "id": "405a0567",
   "metadata": {},
   "outputs": [],
   "source": [
    "# 经典架构，通常5块，比如imagenet224 / 32 = 7， 没法再除下去了（每次maxpooling会/2）\n",
    "\n",
    "conv_arch = ((1,64), (1, 128), (2, 256), (2,512), (2, 512))\n",
    "def vgg(conv_arch):\n",
    "    conv_blks = []\n",
    "    in_channels = 1\n",
    "    \n",
    "    # 加入五块\n",
    "    for (num_convs, out_channels) in conv_arch:\n",
    "        conv_blks.append(vgg_block(num_convs, in_channels, out_channels))\n",
    "        in_channels = out_channels\n",
    "        \n",
    "    # 最后全联接\n",
    "    \n",
    "    return nn.Sequential(*conv_blks, nn.Flatten(), \n",
    "                        nn.Linear(out_channels * 7 * 7, 4096), nn.ReLU(),nn.Dropout(p=0.5),\n",
    "                         nn.Linear(4096, 4096),  nn.ReLU(),nn.Dropout(p=0.5),\n",
    "                         nn.Linear(4096, 10)\n",
    "                        )\n",
    "\n",
    "net = vgg(conv_arch)\n",
    "        "
   ]
  },
  {
   "cell_type": "code",
   "execution_count": 9,
   "id": "713da6d1",
   "metadata": {},
   "outputs": [
    {
     "name": "stdout",
     "output_type": "stream",
     "text": [
      "Sequential output shape: \t\t torch.Size([1, 64, 112, 112])\n",
      "Sequential output shape: \t\t torch.Size([1, 128, 56, 56])\n",
      "Sequential output shape: \t\t torch.Size([1, 256, 28, 28])\n",
      "Sequential output shape: \t\t torch.Size([1, 512, 14, 14])\n",
      "Sequential output shape: \t\t torch.Size([1, 512, 7, 7])\n",
      "Flatten output shape: \t\t torch.Size([1, 25088])\n",
      "Linear output shape: \t\t torch.Size([1, 4096])\n",
      "ReLU output shape: \t\t torch.Size([1, 4096])\n",
      "Dropout output shape: \t\t torch.Size([1, 4096])\n",
      "Linear output shape: \t\t torch.Size([1, 4096])\n",
      "ReLU output shape: \t\t torch.Size([1, 4096])\n",
      "Dropout output shape: \t\t torch.Size([1, 4096])\n",
      "Linear output shape: \t\t torch.Size([1, 10])\n"
     ]
    }
   ],
   "source": [
    "X = torch.rand(size=(1,1,224,224), dtype=torch.float32)\n",
    "\n",
    "for blk in net:\n",
    "    X = blk(X)\n",
    "    print(blk.__class__.__name__, 'output shape: \\t\\t', X.shape)"
   ]
  },
  {
   "cell_type": "markdown",
   "id": "bdcb6c00",
   "metadata": {},
   "source": [
    "训练就拉倒了，李沐这里精度： 0.91\n",
    "\n",
    "大约跑了5min，alexnet是3min，慢了一倍，但是效果好不少。"
   ]
  }
 ],
 "metadata": {
  "kernelspec": {
   "display_name": "Python 3 (ipykernel)",
   "language": "python",
   "name": "python3"
  },
  "language_info": {
   "codemirror_mode": {
    "name": "ipython",
    "version": 3
   },
   "file_extension": ".py",
   "mimetype": "text/x-python",
   "name": "python",
   "nbconvert_exporter": "python",
   "pygments_lexer": "ipython3",
   "version": "3.9.12"
  }
 },
 "nbformat": 4,
 "nbformat_minor": 5
}
