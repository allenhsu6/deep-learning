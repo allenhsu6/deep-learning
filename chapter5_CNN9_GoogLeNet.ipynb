{
 "cells": [
  {
   "cell_type": "markdown",
   "id": "cfd13e1f",
   "metadata": {},
   "source": [
    "# 设计思路\n",
    "\n",
    "到底什么样的kernel才是最好的？\n",
    "\n",
    "GoogLeNet: 我全都要。\n",
    "    \n",
    "Inception块：通过并行网络架构，从四个路径分别从不同层面抽取信息，然后在输出通道做concat\n",
    "\n"
   ]
  },
  {
   "cell_type": "markdown",
   "id": "b7b76dec",
   "metadata": {},
   "source": [
    "![googlenet](./img/googlenet.png)\n"
   ]
  },
  {
   "cell_type": "markdown",
   "id": "a839f1d0",
   "metadata": {},
   "source": [
    "[PPT的link](https://c.d2l.ai/zh-v2/assets/pdfs/part-1_11.pdf)"
   ]
  },
  {
   "cell_type": "code",
   "execution_count": null,
   "id": "66e9f84b",
   "metadata": {},
   "outputs": [],
   "source": []
  }
 ],
 "metadata": {
  "kernelspec": {
   "display_name": "Python 3 (ipykernel)",
   "language": "python",
   "name": "python3"
  },
  "language_info": {
   "codemirror_mode": {
    "name": "ipython",
    "version": 3
   },
   "file_extension": ".py",
   "mimetype": "text/x-python",
   "name": "python",
   "nbconvert_exporter": "python",
   "pygments_lexer": "ipython3",
   "version": "3.9.12"
  }
 },
 "nbformat": 4,
 "nbformat_minor": 5
}
