{
 "cells": [
  {
   "cell_type": "markdown",
   "id": "29e30f74",
   "metadata": {},
   "source": [
    "# 填充\n",
    "\n",
    "主要用于解决因为不断的做卷积操作导致的size越来越小，导致无法叠加深度的问题\n",
    "\n",
    "通过填充，实现output比以前更大\n",
    "\n",
    "填充导致的input和output的size的变化：\n",
    "\n",
    "比如填充$p_h$行，$p_w$列，输出的形状为：\n",
    "\n",
    "$$(n_h-k_h+p_h+1) * (n_w-k_w+p_w+1)$$\n",
    "\n",
    "通常填充的取值为$k_h-1$， $k_w-1$，使得input和output的size保持一致\n",
    "\n",
    "当$k_h$为奇数的时候，就在上下两侧填充\n",
    "$$\\frac{p_h}{2}$$\n",
    "\n",
    "这也是我们经常使用奇数核的原因\n"
   ]
  },
  {
   "cell_type": "markdown",
   "id": "bb47e335",
   "metadata": {},
   "source": [
    "# 步幅\n",
    "\n",
    "输出大小与层数线性相关，那么可以通过步幅来进行调整。\n",
    "\n",
    "同样，重点是算下形状：\n",
    "\n",
    "给定高度为$s_h$ 和 宽度为$s_w$的步幅，输出的形状：\n",
    "\n",
    "$$\\lfloor{(n_h-k_h+p_n+s_h)/s_h}\\rfloor * \\lfloor{(n_w-k_w+p_w+s_w)/s_w}\\rfloor$$\n",
    "\n",
    "所以如果填充取值为$k_h-1$， $k_w-1$，然后步幅取2的话\n",
    "最终的size就是：\n",
    "\n",
    "$$(n_h/s_h) * (n_w/s_w)$$"
   ]
  },
  {
   "cell_type": "markdown",
   "id": "d6921b9c",
   "metadata": {},
   "source": [
    "# 总结\n",
    "\n",
    "填充和步幅都是超参\n",
    "\n",
    "填充可以控制输出形状的减少量\n",
    "\n",
    "步幅可以成倍的减少输出的形状\n",
    "\n",
    "填充通常是K-1，步幅 = 1 通常最好，但是当我们觉得计算量大的时候，我们会取步幅 = 2"
   ]
  },
  {
   "cell_type": "markdown",
   "id": "0fcb5d29",
   "metadata": {},
   "source": [
    "# coding"
   ]
  },
  {
   "cell_type": "code",
   "execution_count": 8,
   "id": "6eb0fc09",
   "metadata": {},
   "outputs": [
    {
     "data": {
      "text/plain": [
       "torch.Size([8, 8])"
      ]
     },
     "execution_count": 8,
     "metadata": {},
     "output_type": "execute_result"
    }
   ],
   "source": [
    "import torch \n",
    "from torch import nn\n",
    "\n",
    "def comp_conv2d(conv2d, X):\n",
    "    X = X.reshape((1,1)+X.shape)\n",
    "    Y = conv2d(X)\n",
    "    return Y.reshape(Y.shape[2:])\n",
    "\n",
    "# 前两个参数含义： input channel， output_channel， padding含义是一边填充的数字\n",
    "# ph 和 pw 各为2 的时候，我们就可以实现input和output的size保持一致\n",
    "conv2d = nn.Conv2d(1,1,kernel_size=3, padding=1)\n",
    "X = torch.rand(size=(8, 8))\n",
    "comp_conv2d(conv2d, X).shape"
   ]
  },
  {
   "cell_type": "code",
   "execution_count": 9,
   "id": "dade152a",
   "metadata": {},
   "outputs": [
    {
     "data": {
      "text/plain": [
       "torch.Size([8, 8])"
      ]
     },
     "execution_count": 9,
     "metadata": {},
     "output_type": "execute_result"
    }
   ],
   "source": [
    "conv2d = nn.Conv2d(1,1, kernel_size=(5, 3), padding=(2,1))\n",
    "comp_conv2d(conv2d, X).shape"
   ]
  },
  {
   "cell_type": "code",
   "execution_count": 10,
   "id": "71967d95",
   "metadata": {},
   "outputs": [
    {
     "data": {
      "text/plain": [
       "torch.Size([4, 4])"
      ]
     },
     "execution_count": 10,
     "metadata": {},
     "output_type": "execute_result"
    }
   ],
   "source": [
    "conv2d = nn.Conv2d(1,1, kernel_size=(5, 3), padding=(2,1), stride=2)\n",
    "comp_conv2d(conv2d, X).shape"
   ]
  }
 ],
 "metadata": {
  "kernelspec": {
   "display_name": "Python 3 (ipykernel)",
   "language": "python",
   "name": "python3"
  },
  "language_info": {
   "codemirror_mode": {
    "name": "ipython",
    "version": 3
   },
   "file_extension": ".py",
   "mimetype": "text/x-python",
   "name": "python",
   "nbconvert_exporter": "python",
   "pygments_lexer": "ipython3",
   "version": "3.9.12"
  }
 },
 "nbformat": 4,
 "nbformat_minor": 5
}
