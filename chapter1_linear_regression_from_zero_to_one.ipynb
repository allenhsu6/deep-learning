{
 "cells": [
  {
   "cell_type": "code",
   "execution_count": 2,
   "id": "52c156e6",
   "metadata": {},
   "outputs": [
    {
     "name": "stderr",
     "output_type": "stream",
     "text": [
      "/opt/homebrew/Caskroom/miniforge/base/envs/Atari/lib/python3.9/site-packages/tqdm/auto.py:22: TqdmWarning: IProgress not found. Please update jupyter and ipywidgets. See https://ipywidgets.readthedocs.io/en/stable/user_install.html\n",
      "  from .autonotebook import tqdm as notebook_tqdm\n"
     ]
    }
   ],
   "source": [
    "import torch\n",
    "import matplotlib.pyplot as plt"
   ]
  },
  {
   "cell_type": "code",
   "execution_count": 1,
   "id": "e571224e",
   "metadata": {},
   "outputs": [],
   "source": [
    "import random\n",
    "%matplotlib inline"
   ]
  },
  {
   "cell_type": "markdown",
   "id": "8ec9d737",
   "metadata": {},
   "source": [
    "# 手写版本\n",
    "\n",
    "# 1.1 Data Prepare"
   ]
  },
  {
   "cell_type": "code",
   "execution_count": 11,
   "id": "290a5df3",
   "metadata": {},
   "outputs": [],
   "source": [
    "W = torch.tensor([2, -3.4])\n",
    "b = torch.tensor([4.2])\n",
    "X = torch.normal(0, 1, (1000, len(W)))\n",
    "y = torch.matmul(X, W) + b\n",
    "y += torch.normal(0, 0.01, y.shape)"
   ]
  },
  {
   "cell_type": "code",
   "execution_count": 16,
   "id": "15949d61",
   "metadata": {},
   "outputs": [
    {
     "data": {
      "image/png": "[encoded data removed]",
      "text/plain": [
       "<Figure size 432x288 with 1 Axes>"
      ]
     },
     "metadata": {
      "needs_background": "light"
     },
     "output_type": "display_data"
    }
   ],
   "source": [
    "plt.scatter(X[:,1].detach().numpy(), y.detach().numpy(), 1);"
   ]
  },
  {
   "cell_type": "markdown",
   "id": "ac60788a",
   "metadata": {},
   "source": [
    "# 1.2 读取数据"
   ]
  },
  {
   "cell_type": "code",
   "execution_count": 20,
   "id": "89aa4306",
   "metadata": {},
   "outputs": [],
   "source": [
    "def data_iter(batch_size):\n",
    "    num_example = len(X)\n",
    "    indices = list(range(num_example))\n",
    "    random.shuffle(indices)\n",
    "    for i in range(0, num_example, batch_size):\n",
    "        batch_indices = torch.tensor(indices[i:min(batch_size+i, num_example)])\n",
    "        yield X[batch_indices], y[batch_indices]\n",
    "    "
   ]
  },
  {
   "cell_type": "code",
   "execution_count": 23,
   "id": "2f623d41",
   "metadata": {},
   "outputs": [
    {
     "name": "stdout",
     "output_type": "stream",
     "text": [
      "tensor([[ 0.2598, -0.6283],\n",
      "        [-1.2725,  0.2428],\n",
      "        [-0.4889, -1.0941],\n",
      "        [ 1.4163, -1.5842],\n",
      "        [-1.3020, -0.6739],\n",
      "        [ 1.6102, -0.2134],\n",
      "        [-0.1532,  1.0732],\n",
      "        [ 1.0155,  0.2546],\n",
      "        [ 0.7895,  1.2200],\n",
      "        [ 1.1110, -1.4666]]) tensor([ 6.8406,  0.8139,  6.9523, 12.4256,  3.8957,  8.1272,  0.2362,  5.3804,\n",
      "         1.6342, 11.4055])\n"
     ]
    }
   ],
   "source": [
    "# batch 意思是每10个数字为一个batch\n",
    "batch_size = 10\n",
    "for features, labels in data_iter(batch_size):\n",
    "    print(features, labels)\n",
    "    break"
   ]
  },
  {
   "cell_type": "markdown",
   "id": "a4dc4ad5",
   "metadata": {},
   "source": [
    "# 1.3 初始化模型参数"
   ]
  },
  {
   "cell_type": "code",
   "execution_count": 24,
   "id": "e9567001",
   "metadata": {},
   "outputs": [],
   "source": [
    "w = torch.normal(0, 0.01, size=(2,1), requires_grad=True)\n",
    "b = torch.zeros(1, requires_grad=True)"
   ]
  },
  {
   "cell_type": "markdown",
   "id": "f470563b",
   "metadata": {},
   "source": [
    "# 1.4 定义模型"
   ]
  },
  {
   "cell_type": "code",
   "execution_count": 25,
   "id": "1a3c7358",
   "metadata": {},
   "outputs": [],
   "source": [
    "def linreg(X, w, b):\n",
    "    return torch.matmul(X, w) + b"
   ]
  },
  {
   "cell_type": "markdown",
   "id": "b52469fb",
   "metadata": {},
   "source": [
    "# 1.5 定义损失函数"
   ]
  },
  {
   "cell_type": "code",
   "execution_count": 26,
   "id": "ee2f0880",
   "metadata": {},
   "outputs": [],
   "source": [
    "def squared_loss(y_hat, y):\n",
    "    return (y_hat - y.reshape(y_hat.shape))**2/2"
   ]
  },
  {
   "cell_type": "markdown",
   "id": "ab098aa1",
   "metadata": {},
   "source": [
    "# 1.6 定义优化算法"
   ]
  },
  {
   "cell_type": "code",
   "execution_count": 27,
   "id": "159d819b",
   "metadata": {},
   "outputs": [],
   "source": [
    "def sgd(params, lr, batch_size):\n",
    "    with torch.no_grad():\n",
    "        for param in params:\n",
    "            param -= lr * param.grad / batch_size\n",
    "            param.grad.zero_()"
   ]
  },
  {
   "cell_type": "markdown",
   "id": "b7b59e29",
   "metadata": {},
   "source": [
    "# 1.7 train"
   ]
  },
  {
   "cell_type": "code",
   "execution_count": 28,
   "id": "477a4db3",
   "metadata": {},
   "outputs": [],
   "source": [
    "lr = 0.03\n",
    "num_epochs = 3\n",
    "net = linreg\n",
    "loss = squared_loss"
   ]
  },
  {
   "cell_type": "code",
   "execution_count": 29,
   "id": "95c33ea6",
   "metadata": {},
   "outputs": [
    {
     "name": "stdout",
     "output_type": "stream",
     "text": [
      "tensor(0.0264)\n",
      "tensor(9.3530e-05)\n",
      "tensor(5.2218e-05)\n"
     ]
    }
   ],
   "source": [
    "for epoch in range(num_epochs):\n",
    "    for X_train, y_train in data_iter(batch_size):\n",
    "        l = loss(net(X_train, w, b), y_train)\n",
    "        l.sum().backward()\n",
    "        sgd([w, b], lr, batch_size)\n",
    "    with torch.no_grad():\n",
    "        train_l = loss(net(X,w,b), y)\n",
    "        print(train_l.mean())"
   ]
  },
  {
   "cell_type": "code",
   "execution_count": 30,
   "id": "d850d0f1",
   "metadata": {},
   "outputs": [
    {
     "name": "stdout",
     "output_type": "stream",
     "text": [
      "tensor([[ 2.0001],\n",
      "        [-3.3997]], requires_grad=True) tensor([4.1995], requires_grad=True)\n"
     ]
    }
   ],
   "source": [
    "print(w, b)"
   ]
  },
  {
   "cell_type": "markdown",
   "id": "eba79b35",
   "metadata": {},
   "source": [
    "# 使用库函数的实现版本"
   ]
  },
  {
   "cell_type": "code",
   "execution_count": 32,
   "id": "e2d2a9aa",
   "metadata": {},
   "outputs": [],
   "source": [
    "import numpy as np\n",
    "import torch\n",
    "from torch.utils import data"
   ]
  },
  {
   "cell_type": "markdown",
   "id": "05f4ac24",
   "metadata": {},
   "source": [
    "## 2.1 生成并使用dataloader倒入数据"
   ]
  },
  {
   "cell_type": "code",
   "execution_count": 44,
   "id": "0e0317a7",
   "metadata": {},
   "outputs": [],
   "source": [
    "true_w = torch.tensor([2.0, -3.4])\n",
    "true_b = 4.2"
   ]
  },
  {
   "cell_type": "code",
   "execution_count": 45,
   "id": "4ef72b19",
   "metadata": {},
   "outputs": [],
   "source": [
    "def synthetic_data(true_w, true_b, data_size):\n",
    "    X = torch.normal(0, 1, (data_size, len(true_w)))\n",
    "    y = torch.matmul(X, true_w) + true_b\n",
    "    y += torch.normal(0, 0.01, y.shape)\n",
    "    return X, y\n",
    "\n",
    "features, labels = synthetic_data(true_w, true_b, 1000)"
   ]
  },
  {
   "cell_type": "code",
   "execution_count": 46,
   "id": "1124f9e0",
   "metadata": {},
   "outputs": [],
   "source": [
    "def load_array(data_arrays, batch_size, is_train=True): # is_train means data shuffle\n",
    "    dataset = data.TensorDataset(*data_arrays)\n",
    "    return data.DataLoader(dataset, batch_size, shuffle=is_train)"
   ]
  },
  {
   "cell_type": "code",
   "execution_count": 47,
   "id": "0b9734e6",
   "metadata": {},
   "outputs": [],
   "source": [
    "batch_size = 10\n",
    "data_iter = load_array((features, labels), batch_size, True)"
   ]
  },
  {
   "cell_type": "code",
   "execution_count": 48,
   "id": "1e01d585",
   "metadata": {},
   "outputs": [
    {
     "data": {
      "text/plain": [
       "[tensor([[ 1.4040,  0.4971],\n",
       "         [ 0.7033, -0.2282],\n",
       "         [ 0.7912, -1.0671],\n",
       "         [ 0.5141,  0.0930],\n",
       "         [-0.3760,  1.6009],\n",
       "         [-1.8390, -1.2004],\n",
       "         [ 0.4514, -0.3786],\n",
       "         [ 0.2482, -1.6291],\n",
       "         [ 1.7194,  0.1574],\n",
       "         [-0.3304,  0.9755]]),\n",
       " tensor([ 5.3103,  6.3804,  9.4155,  4.9252, -2.0031,  4.5881,  6.3757, 10.2338,\n",
       "          7.1096,  0.2068])]"
      ]
     },
     "execution_count": 48,
     "metadata": {},
     "output_type": "execute_result"
    }
   ],
   "source": [
    "next(iter(data_iter))"
   ]
  },
  {
   "cell_type": "markdown",
   "id": "8dc4c5be",
   "metadata": {},
   "source": [
    "## 2.2 定义模型"
   ]
  },
  {
   "cell_type": "code",
   "execution_count": 50,
   "id": "7c2c4971",
   "metadata": {},
   "outputs": [],
   "source": [
    "from torch import nn\n",
    "\n",
    "net = nn.Sequential(nn.Linear(2, 1))"
   ]
  },
  {
   "cell_type": "code",
   "execution_count": 80,
   "id": "b14f3e3e",
   "metadata": {},
   "outputs": [
    {
     "data": {
      "text/plain": [
       "tensor([0.])"
      ]
     },
     "execution_count": 80,
     "metadata": {},
     "output_type": "execute_result"
    }
   ],
   "source": [
    "net[0].weight.data.normal_(0, 0.01)\n",
    "net[0].bias.data.fill_(0)"
   ]
  },
  {
   "cell_type": "code",
   "execution_count": 77,
   "id": "feaef6d2",
   "metadata": {},
   "outputs": [],
   "source": [
    "loss = nn.MSELoss()"
   ]
  },
  {
   "cell_type": "code",
   "execution_count": 81,
   "id": "1ae426b4",
   "metadata": {},
   "outputs": [],
   "source": [
    "trainer = torch.optim.SGD(net.parameters(), lr=0.03)"
   ]
  },
  {
   "cell_type": "markdown",
   "id": "d3b869b3",
   "metadata": {},
   "source": [
    "## 2.3 train"
   ]
  },
  {
   "cell_type": "code",
   "execution_count": 82,
   "id": "b5442e80",
   "metadata": {},
   "outputs": [
    {
     "name": "stdout",
     "output_type": "stream",
     "text": [
      "before: w: tensor([[ 0.0024, -0.0027]]) b: tensor([0.])\n",
      "w: tensor([ 2.0000, -3.4000]) b: 4.2\n",
      "loss 31.292372\n",
      "w: tensor([[ 1.9987, -3.3920]]) b: tensor([4.1925])\n",
      "loss 31.345295\n",
      "w: tensor([[ 1.9986, -3.3999]]) b: tensor([4.2005])\n",
      "loss 31.350313\n",
      "w: tensor([[ 1.9998, -3.3999]]) b: tensor([4.1998])\n",
      "loss 31.352173\n",
      "w: tensor([[ 2.0003, -3.3999]]) b: tensor([4.2003])\n",
      "loss 31.348251\n",
      "w: tensor([[ 1.9995, -3.3998]]) b: tensor([4.2003])\n",
      "loss 31.356215\n",
      "w: tensor([[ 2.0003, -3.4005]]) b: tensor([4.2000])\n",
      "loss 31.344576\n",
      "w: tensor([[ 1.9999, -3.3990]]) b: tensor([4.2003])\n",
      "loss 31.345840\n",
      "w: tensor([[ 1.9992, -3.3996]]) b: tensor([4.2000])\n",
      "loss 31.351299\n",
      "w: tensor([[ 2.0002, -3.3998]]) b: tensor([4.2000])\n",
      "loss 31.347553\n",
      "w: tensor([[ 1.9996, -3.3996]]) b: tensor([4.2007])\n"
     ]
    }
   ],
   "source": [
    "num_epochs = 10\n",
    "print(f'before: w: {net[0].weight.data} b: {net[0].bias.data}')\n",
    "print(f'w: {true_w.data} b: {true_b}')\n",
    "\n",
    "for epoch in range(num_epochs):\n",
    "    for X, y in data_iter:\n",
    "        predict_y = net(X)\n",
    "        l = loss(predict_y, y.reshape(predict_y.shape))\n",
    "        trainer.zero_grad()\n",
    "        l.backward()\n",
    "        trainer.step()\n",
    "    l = loss(net(features), labels)   \n",
    "    print(f'loss {l:f}')\n",
    "    print(f'w: {net[0].weight.data} b: {net[0].bias.data}')\n"
   ]
  }
 ],
 "metadata": {
  "kernelspec": {
   "display_name": "Python 3 (ipykernel)",
   "language": "python",
   "name": "python3"
  },
  "language_info": {
   "codemirror_mode": {
    "name": "ipython",
    "version": 3
   },
   "file_extension": ".py",
   "mimetype": "text/x-python",
   "name": "python",
   "nbconvert_exporter": "python",
   "pygments_lexer": "ipython3",
   "version": "3.9.12"
  }
 },
 "nbformat": 4,
 "nbformat_minor": 5
}
