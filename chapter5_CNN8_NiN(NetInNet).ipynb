{
 "cells": [
  {
   "cell_type": "markdown",
   "id": "aa509140",
   "metadata": {},
   "source": [
    "# 概念\n",
    "\n",
    "一个比较极端的例子，全部的网络没有全联接层，全是CNN\n",
    "\n",
    "NiN block的构成：卷积层 + 2个kernel为1*1的卷积层（相当于对每个像素增加了非线性）\n",
    "\n",
    "使用全局平均池化层代替最后的全连接层\n",
    "\n",
    "优点：\n",
    "\n",
    "参数个数非常少，不容易过拟合"
   ]
  },
  {
   "cell_type": "markdown",
   "id": "e657257c",
   "metadata": {},
   "source": [
    "# coding"
   ]
  },
  {
   "cell_type": "code",
   "execution_count": 2,
   "id": "47edcf58",
   "metadata": {},
   "outputs": [
    {
     "name": "stderr",
     "output_type": "stream",
     "text": [
      "/opt/homebrew/Caskroom/miniforge/base/envs/Atari/lib/python3.9/site-packages/tqdm/auto.py:22: TqdmWarning: IProgress not found. Please update jupyter and ipywidgets. See https://ipywidgets.readthedocs.io/en/stable/user_install.html\n",
      "  from .autonotebook import tqdm as notebook_tqdm\n"
     ]
    }
   ],
   "source": [
    "import torch\n",
    "from torch import nn"
   ]
  },
  {
   "cell_type": "code",
   "execution_count": 3,
   "id": "f5357375",
   "metadata": {},
   "outputs": [],
   "source": [
    "def nin_block(in_channels, out_channels, kernel_size, strides, padding):\n",
    "    return nn.Sequential(\n",
    "    nn.Conv2d(in_channels, out_channels, kernel_size, strides, padding),\n",
    "    nn.ReLU(), nn.Conv2d(out_channels, out_channels, kernel_size=1),\n",
    "    nn.ReLU(), nn.Conv2d(out_channels, out_channels, kernel_size=1),\n",
    "    nn.ReLU())"
   ]
  },
  {
   "cell_type": "code",
   "execution_count": 4,
   "id": "cb7af338",
   "metadata": {},
   "outputs": [],
   "source": [
    "net = nn.Sequential(\n",
    "        nin_block(1, 96, kernel_size=11, strides=4, padding=0),\n",
    "        nn.MaxPool2d(3, stride=2),\n",
    "    nin_block(96, 256, kernel_size=5, strides=1, padding=2),\n",
    "        nn.MaxPool2d(3, stride=2),\n",
    "    nin_block(256, 384, kernel_size=3, strides=1, padding=1),\n",
    "        nn.MaxPool2d(3, stride=2),nn.Dropout(0.5),\n",
    "    nin_block(384, 10, kernel_size=3, strides=1, padding=1),\n",
    "    nn.AdaptiveAvgPool2d((1,1)), # 对整个后两维度取平均\n",
    "    nn.Flatten()\n",
    "        )"
   ]
  },
  {
   "cell_type": "code",
   "execution_count": 5,
   "id": "4c2b539b",
   "metadata": {},
   "outputs": [
    {
     "name": "stdout",
     "output_type": "stream",
     "text": [
      "Sequential output shape: \t torch.Size([1, 96, 54, 54])\n",
      "MaxPool2d output shape: \t torch.Size([1, 96, 26, 26])\n",
      "Sequential output shape: \t torch.Size([1, 256, 26, 26])\n",
      "MaxPool2d output shape: \t torch.Size([1, 256, 12, 12])\n",
      "Sequential output shape: \t torch.Size([1, 384, 12, 12])\n",
      "MaxPool2d output shape: \t torch.Size([1, 384, 5, 5])\n",
      "Dropout output shape: \t torch.Size([1, 384, 5, 5])\n",
      "Sequential output shape: \t torch.Size([1, 10, 5, 5])\n",
      "AdaptiveAvgPool2d output shape: \t torch.Size([1, 10, 1, 1])\n",
      "Flatten output shape: \t torch.Size([1, 10])\n"
     ]
    }
   ],
   "source": [
    "X = torch.rand((1,1,224,224))\n",
    "for layer in net:\n",
    "    X = layer(X)\n",
    "    print(layer.__class__.__name__, 'output shape: \\t', X.shape)"
   ]
  }
 ],
 "metadata": {
  "kernelspec": {
   "display_name": "Python 3 (ipykernel)",
   "language": "python",
   "name": "python3"
  },
  "language_info": {
   "codemirror_mode": {
    "name": "ipython",
    "version": 3
   },
   "file_extension": ".py",
   "mimetype": "text/x-python",
   "name": "python",
   "nbconvert_exporter": "python",
   "pygments_lexer": "ipython3",
   "version": "3.9.12"
  }
 },
 "nbformat": 4,
 "nbformat_minor": 5
}
